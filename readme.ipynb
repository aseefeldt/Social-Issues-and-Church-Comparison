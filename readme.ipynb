{
 "cells": [
  {
   "cell_type": "markdown",
   "id": "ec6d54d4-e37b-4502-9a4d-b7fa1691adf9",
   "metadata": {},
   "source": [
    "Data Sites:  \n",
    "Church Data:  https://www.usreligioncensus.org/node/1639\n",
    "Homeless Data:  https://worldpopulationreview.com/state-rankings/homeless-population-by-state\n",
    "Food Insecure Data:  https://www.ers.usda.gov/topics/food-nutrition-assistance/food-security-in-the-u-s/key-statistics-graphics/\n",
    "Foster Data:  https://datacenter.aecf.org/data/tables/6243-children-in-foster-care#detailed/2/2-53/false/2048,574,573,869,36,868/any/12987\n",
    "Housing Burdened Data:  https://www.jchs.harvard.edu/ARH_2017_cost_burdens_by_state_total\n",
    "Uninsured Data:https://aspe.hhs.gov/reports/state-county-local-estimates-uninsured-population\n"
   ]
  }
 ],
 "metadata": {
  "kernelspec": {
   "display_name": "Python 3 (ipykernel)",
   "language": "python",
   "name": "python3"
  },
  "language_info": {
   "codemirror_mode": {
    "name": "ipython",
    "version": 3
   },
   "file_extension": ".py",
   "mimetype": "text/x-python",
   "name": "python",
   "nbconvert_exporter": "python",
   "pygments_lexer": "ipython3",
   "version": "3.10.9"
  }
 },
 "nbformat": 4,
 "nbformat_minor": 5
}
